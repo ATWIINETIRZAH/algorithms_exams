{
  "nbformat": 4,
  "nbformat_minor": 0,
  "metadata": {
    "colab": {
      "provenance": []
    },
    "kernelspec": {
      "name": "python3",
      "display_name": "Python 3"
    },
    "language_info": {
      "name": "python"
    }
  },
  "cells": [
    {
      "cell_type": "code",
      "execution_count": 7,
      "metadata": {
        "colab": {
          "base_uri": "https://localhost:8080/"
        },
        "id": "QpbyQqHtTOAB",
        "outputId": "907672f4-69ca-4ccf-bc26-789f05a6cbcb"
      },
      "outputs": [
        {
          "output_type": "stream",
          "name": "stdout",
          "text": [
            "Mutual friends between Tirzah and Trisha: {'Tavi', 'Medley', 'Trisha', 'Tirzah', 'Medlyn'}\n"
          ]
        }
      ],
      "source": [
        "#question3\n",
        "\n",
        "#M22B23/004\n",
        "#A98238\n",
        "\n",
        "#for this question, I used breadth first search\n",
        "\n",
        "from collections import deque\n",
        "#BFS=breadth first search\n",
        "\n",
        "#BFS (graph, start):\n",
        "def bfs(graph, start):\n",
        "    visited = set()\n",
        "    #create a queue that will contain user info\n",
        "    queue = deque([(start, [start])])\n",
        "\n",
        "#While or As the queue is not empty:\n",
        "    while queue:\n",
        "      #Extract the first node and its path from the queue.\n",
        "        node, path = queue.popleft()\n",
        "\n",
        "#if the node has not been visited\n",
        "        if node not in visited:\n",
        "          #add the node to the visited one\n",
        "            visited.add(node)\n",
        "\n",
        "        #For each unvisited neighbor of the current node:\n",
        "            for neighbor in graph[node]:\n",
        "                if neighbor not in visited:\n",
        "                   #Add the neighbor and its extended path to the queue\n",
        "                    queue.append((neighbor, path + [neighbor]))\n",
        "\n",
        "#return the nodes that have been visited\n",
        "    return visited\n",
        "\n",
        "def mutual_friends(graph, user1, user2):\n",
        "    friends_user1 = bfs(graph, user1)\n",
        "    friends_user2 = bfs(graph, user2)\n",
        "\n",
        "    mutual_friends = friends_user2.intersection(friends_user1)\n",
        "    return mutual_friends\n",
        "\n",
        "# Example usage:\n",
        "social_graph = {\n",
        "    'Tirzah': ['Tavi', 'Trisha'],\n",
        "    'Tavi': ['Tirzah', 'Medlyn'],\n",
        "    'Trisha': ['Tirzah', 'Medley'],\n",
        "    'Medlyn': ['Tavi'],\n",
        "    'Medley': ['Trisha']\n",
        "}\n",
        "\n",
        "user1 = 'Tirzah'\n",
        "user2 = 'Trisha'\n",
        "\n",
        "result = mutual_friends(social_graph, user1, user2)\n",
        "#displays mutual friends\n",
        "print(f\"Mutual friends between {user1} and {user2}: {result}\")\n",
        "\n",
        "\n"
      ]
    }
  ]
}